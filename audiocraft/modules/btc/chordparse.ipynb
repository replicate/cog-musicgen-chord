{
 "cells": [
  {
   "cell_type": "code",
   "execution_count": 1,
   "metadata": {},
   "outputs": [
    {
     "ename": "ValueError",
     "evalue": "attempted relative import beyond top-level package",
     "output_type": "error",
     "traceback": [
      "\u001b[0;31m---------------------------------------------------------------------------\u001b[0m",
      "\u001b[0;31mValueError\u001b[0m                                Traceback (most recent call last)",
      "\u001b[0;32m/tmp/ipykernel_2531466/1777652931.py\u001b[0m in \u001b[0;36m<cell line: 1>\u001b[0;34m()\u001b[0m\n\u001b[0;32m----> 1\u001b[0;31m \u001b[0;32mfrom\u001b[0m \u001b[0mutils\u001b[0m \u001b[0;32mimport\u001b[0m \u001b[0mchords\u001b[0m\u001b[0;34m\u001b[0m\u001b[0;34m\u001b[0m\u001b[0m\n\u001b[0m\u001b[1;32m      2\u001b[0m \u001b[0;32mimport\u001b[0m \u001b[0mtorch\u001b[0m\u001b[0;34m\u001b[0m\u001b[0;34m\u001b[0m\u001b[0m\n",
      "\u001b[0;32m~/musicgen/MusicGen_Chord/audiocraft/modules/btc/utils/chords.py\u001b[0m in \u001b[0;36m<module>\u001b[0;34m\u001b[0m\n\u001b[1;32m     32\u001b[0m \u001b[0;32mimport\u001b[0m \u001b[0mnumpy\u001b[0m \u001b[0;32mas\u001b[0m \u001b[0mnp\u001b[0m\u001b[0;34m\u001b[0m\u001b[0;34m\u001b[0m\u001b[0m\n\u001b[1;32m     33\u001b[0m \u001b[0;32mimport\u001b[0m \u001b[0mpandas\u001b[0m \u001b[0;32mas\u001b[0m \u001b[0mpd\u001b[0m\u001b[0;34m\u001b[0m\u001b[0;34m\u001b[0m\u001b[0m\n\u001b[0;32m---> 34\u001b[0;31m \u001b[0;32mfrom\u001b[0m \u001b[0;34m.\u001b[0m\u001b[0;34m.\u001b[0m \u001b[0;32mimport\u001b[0m \u001b[0mmir_eval\u001b[0m\u001b[0;34m\u001b[0m\u001b[0;34m\u001b[0m\u001b[0m\n\u001b[0m\u001b[1;32m     35\u001b[0m \u001b[0;34m\u001b[0m\u001b[0m\n\u001b[1;32m     36\u001b[0m \u001b[0;34m\u001b[0m\u001b[0m\n",
      "\u001b[0;31mValueError\u001b[0m: attempted relative import beyond top-level package"
     ]
    }
   ],
   "source": [
    "from utils import chords\n",
    "import torch"
   ]
  },
  {
   "cell_type": "code",
   "execution_count": 2,
   "metadata": {},
   "outputs": [],
   "source": [
    "chords = chords.Chords()"
   ]
  },
  {
   "cell_type": "code",
   "execution_count": 8,
   "metadata": {},
   "outputs": [
    {
     "data": {
      "text/plain": [
       "(3, 0, array([1, 0, 0, 0, 1, 0, 0, 1, 0, 0, 0, 0]), True)"
      ]
     },
     "execution_count": 8,
     "metadata": {},
     "output_type": "execute_result"
    }
   ],
   "source": [
    "chords.chord('D#')"
   ]
  },
  {
   "cell_type": "code",
   "execution_count": 13,
   "metadata": {},
   "outputs": [
    {
     "data": {
      "text/plain": [
       "(0, 0, array([1, 0, 0, 1, 0, 0, 0, 1, 0, 0, 0, 0]), False)"
      ]
     },
     "execution_count": 13,
     "metadata": {},
     "output_type": "execute_result"
    }
   ],
   "source": [
    "chords.chord('C:min')"
   ]
  },
  {
   "cell_type": "code",
   "execution_count": 14,
   "metadata": {},
   "outputs": [],
   "source": [
    "crds = chords.load_chords('/home/sake/psycho_separated_drumless/no_drums.lab')"
   ]
  },
  {
   "cell_type": "code",
   "execution_count": 15,
   "metadata": {},
   "outputs": [
    {
     "data": {
      "text/plain": [
       "array([(  0.   ,   0.463, (-1, -1, [0, 0, 0, 0, 0, 0, 0, 0, 0, 0, 0, 0], False)),\n",
       "       (  0.463,   3.889, ( 3,  0, [1, 0, 0, 0, 1, 0, 0, 1, 0, 0, 0, 0],  True)),\n",
       "       (  3.889,   7.315, ( 7,  0, [1, 0, 0, 0, 1, 0, 0, 1, 0, 0, 0, 0],  True)),\n",
       "       (  7.315,  10.833, ( 0,  0, [1, 0, 0, 1, 0, 0, 0, 1, 0, 0, 0, 0], False)),\n",
       "       ( 10.833,  14.167, ( 8,  0, [1, 0, 0, 0, 1, 0, 0, 1, 0, 0, 0, 0],  True)),\n",
       "       ( 14.167,  17.778, ( 3,  0, [1, 0, 0, 0, 1, 0, 0, 1, 0, 0, 0, 0],  True)),\n",
       "       ( 17.778,  20.   , ( 7,  0, [1, 0, 0, 1, 0, 0, 0, 1, 0, 0, 0, 0], False)),\n",
       "       ( 20.   ,  20.37 , ( 3,  0, [1, 0, 0, 0, 1, 0, 0, 1, 0, 0, 0, 0],  True)),\n",
       "       ( 20.37 ,  20.926, ( 7,  0, [1, 0, 0, 1, 0, 0, 0, 1, 0, 0, 0, 0], False)),\n",
       "       ( 20.926,  24.537, ( 0,  0, [1, 0, 0, 1, 0, 0, 0, 1, 0, 0, 0, 0], False)),\n",
       "       ( 24.537,  27.778, ( 8,  0, [1, 0, 0, 0, 1, 0, 0, 1, 0, 0, 0, 0],  True)),\n",
       "       ( 27.778,  32.963, ( 3,  0, [1, 0, 0, 0, 1, 0, 0, 1, 0, 0, 0, 0],  True)),\n",
       "       ( 32.963,  34.63 , ( 7,  0, [1, 0, 0, 1, 0, 0, 0, 1, 0, 0, 0, 0], False)),\n",
       "       ( 34.63 ,  38.241, ( 0,  0, [1, 0, 0, 1, 0, 0, 0, 1, 0, 0, 0, 0], False)),\n",
       "       ( 38.241,  40.   , ( 8,  0, [1, 0, 0, 0, 1, 0, 0, 1, 0, 0, 0, 0],  True)),\n",
       "       ( 40.   ,  41.667, (-1, -1, [0, 0, 0, 0, 0, 0, 0, 0, 0, 0, 0, 0], False)),\n",
       "       ( 41.667,  45.278, ( 3,  0, [1, 0, 0, 0, 1, 0, 0, 1, 0, 0, 0, 0],  True)),\n",
       "       ( 45.278,  47.5  , ( 7,  0, [1, 0, 0, 1, 0, 0, 0, 1, 0, 0, 0, 0], False)),\n",
       "       ( 47.5  ,  48.519, ( 7,  0, [1, 0, 0, 0, 1, 0, 0, 1, 0, 0, 1, 0],  True)),\n",
       "       ( 48.519,  52.037, ( 0,  0, [1, 0, 0, 1, 0, 0, 0, 1, 0, 0, 0, 0], False)),\n",
       "       ( 52.037,  54.444, ( 8,  0, [1, 0, 0, 0, 1, 0, 0, 1, 0, 0, 0, 0],  True)),\n",
       "       ( 54.444,  55.093, ( 5,  0, [1, 0, 0, 1, 0, 0, 0, 1, 0, 0, 0, 0], False)),\n",
       "       ( 55.093,  55.278, ( 8,  0, [1, 0, 0, 0, 1, 0, 0, 1, 0, 0, 0, 0],  True)),\n",
       "       ( 55.278,  58.796, ( 3,  0, [1, 0, 0, 0, 1, 0, 0, 1, 0, 0, 0, 0],  True)),\n",
       "       ( 58.796,  62.222, ( 7,  0, [1, 0, 0, 0, 1, 0, 0, 1, 0, 0, 0, 0],  True)),\n",
       "       ( 62.222,  65.741, ( 0,  0, [1, 0, 0, 1, 0, 0, 0, 1, 0, 0, 0, 0], False)),\n",
       "       ( 65.741,  69.074, ( 8,  0, [1, 0, 0, 0, 1, 0, 0, 1, 0, 0, 0, 0],  True)),\n",
       "       ( 69.074,  72.593, ( 3,  0, [1, 0, 0, 0, 1, 0, 0, 1, 0, 0, 0, 0],  True)),\n",
       "       ( 72.593,  75.278, ( 7,  0, [1, 0, 0, 1, 0, 0, 0, 1, 0, 0, 0, 0], False)),\n",
       "       ( 75.278,  75.741, ( 7,  0, [1, 0, 0, 0, 1, 0, 0, 1, 0, 0, 1, 0],  True)),\n",
       "       ( 75.741,  75.833, ( 7,  0, [1, 0, 0, 0, 1, 0, 0, 1, 0, 0, 0, 0],  True)),\n",
       "       ( 75.833,  79.352, ( 0,  0, [1, 0, 0, 1, 0, 0, 0, 1, 0, 0, 0, 0], False)),\n",
       "       ( 79.352,  83.333, ( 8,  0, [1, 0, 0, 0, 1, 0, 0, 1, 0, 0, 0, 0],  True)),\n",
       "       ( 83.333,  86.481, ( 3,  0, [1, 0, 0, 0, 1, 0, 0, 1, 0, 0, 0, 0],  True)),\n",
       "       ( 86.481,  89.63 , ( 7,  0, [1, 0, 0, 0, 1, 0, 0, 1, 0, 0, 0, 0],  True)),\n",
       "       ( 89.63 ,  93.056, ( 0,  0, [1, 0, 0, 1, 0, 0, 0, 1, 0, 0, 0, 0], False)),\n",
       "       ( 93.056,  96.481, ( 8,  0, [1, 0, 0, 0, 1, 0, 0, 1, 0, 0, 0, 0],  True)),\n",
       "       ( 96.481, 100.   , ( 3,  0, [1, 0, 0, 0, 1, 0, 0, 1, 0, 0, 0, 0],  True)),\n",
       "       (100.   , 101.389, ( 7,  0, [1, 0, 0, 1, 0, 0, 0, 1, 0, 0, 0, 0], False)),\n",
       "       (101.389, 102.315, ( 3,  0, [1, 0, 0, 0, 1, 0, 0, 1, 0, 0, 0, 0],  True)),\n",
       "       (102.315, 103.148, ( 7,  0, [1, 0, 0, 1, 0, 0, 0, 1, 0, 0, 0, 0], False)),\n",
       "       (103.148, 106.852, ( 0,  0, [1, 0, 0, 1, 0, 0, 0, 1, 0, 0, 0, 0], False)),\n",
       "       (106.852, 110.   , ( 8,  0, [1, 0, 0, 0, 1, 0, 0, 1, 0, 0, 0, 0],  True)),\n",
       "       (110.   , 110.093, (-1, -1, [0, 0, 0, 0, 0, 0, 0, 0, 0, 0, 0, 0], False)),\n",
       "       (110.093, 113.889, ( 3,  0, [1, 0, 0, 0, 1, 0, 0, 1, 0, 0, 0, 0],  True)),\n",
       "       (113.889, 116.296, ( 7,  0, [1, 0, 0, 1, 0, 0, 0, 1, 0, 0, 0, 0], False)),\n",
       "       (116.296, 117.037, ( 7,  0, [1, 0, 0, 0, 1, 0, 0, 1, 0, 0, 1, 0],  True)),\n",
       "       (117.037, 120.556, ( 0,  0, [1, 0, 0, 1, 0, 0, 0, 1, 0, 0, 0, 0], False)),\n",
       "       (120.556, 122.87 , ( 8,  0, [1, 0, 0, 0, 1, 0, 0, 1, 0, 0, 0, 0],  True)),\n",
       "       (122.87 , 123.889, ( 5,  0, [1, 0, 0, 1, 0, 0, 0, 1, 0, 0, 0, 0], False)),\n",
       "       (123.889, 127.407, ( 3,  0, [1, 0, 0, 0, 1, 0, 0, 1, 0, 0, 0, 0],  True)),\n",
       "       (127.407, 130.   , ( 7,  0, [1, 0, 0, 0, 1, 0, 0, 1, 0, 0, 0, 0],  True)),\n",
       "       (130.   , 130.741, ( 7,  0, [1, 0, 0, 0, 1, 0, 0, 1, 0, 0, 1, 0],  True)),\n",
       "       (130.741, 130.833, ( 7,  0, [1, 0, 0, 0, 1, 0, 0, 1, 0, 0, 0, 0],  True)),\n",
       "       (130.833, 134.167, ( 0,  0, [1, 0, 0, 1, 0, 0, 0, 1, 0, 0, 0, 0], False)),\n",
       "       (134.167, 137.593, ( 8,  0, [1, 0, 0, 0, 1, 0, 0, 1, 0, 0, 0, 0],  True)),\n",
       "       (137.593, 141.111, ( 3,  0, [1, 0, 0, 0, 1, 0, 0, 1, 0, 0, 0, 0],  True)),\n",
       "       (141.111, 144.444, ( 7,  0, [1, 0, 0, 0, 1, 0, 0, 1, 0, 0, 0, 0],  True)),\n",
       "       (144.444, 147.87 , ( 0,  0, [1, 0, 0, 1, 0, 0, 0, 1, 0, 0, 0, 0], False)),\n",
       "       (147.87 , 151.944, ( 8,  0, [1, 0, 0, 0, 1, 0, 0, 1, 0, 0, 0, 0],  True)),\n",
       "       (151.944, 152.87 , ( 8,  0, [1, 0, 0, 0, 1, 0, 0, 1, 0, 0, 0, 1],  True)),\n",
       "       (152.87 , 153.056, ( 0,  0, [1, 0, 0, 1, 0, 0, 0, 1, 0, 0, 0, 0], False)),\n",
       "       (153.056, 153.148, ( 7,  0, [1, 0, 0, 0, 1, 0, 0, 1, 0, 0, 0, 0],  True)),\n",
       "       (153.148, 154.722, ( 7,  0, [1, 0, 0, 0, 1, 0, 0, 1, 0, 0, 1, 0],  True)),\n",
       "       (154.722, 156.481, ( 0,  0, [1, 0, 0, 1, 0, 0, 0, 1, 0, 0, 0, 0], False)),\n",
       "       (156.481, 160.   , ( 5,  0, [1, 0, 0, 1, 0, 0, 0, 1, 0, 0, 0, 0], False)),\n",
       "       (160.   , 161.574, ( 7,  0, [1, 0, 0, 1, 0, 0, 0, 1, 0, 0, 1, 0], False)),\n",
       "       (161.574, 163.241, (11,  0, [1, 0, 0, 0, 1, 0, 0, 1, 0, 0, 0, 0],  True)),\n",
       "       (163.241, 164.907, ( 8,  0, [1, 0, 0, 0, 1, 0, 0, 1, 0, 0, 0, 0],  True)),\n",
       "       (164.907, 168.611, ( 3,  0, [1, 0, 0, 0, 1, 0, 0, 1, 0, 0, 0, 0],  True)),\n",
       "       (168.611, 171.944, ( 7,  0, [1, 0, 0, 0, 1, 0, 0, 1, 0, 0, 0, 0],  True)),\n",
       "       (171.944, 175.278, ( 0,  0, [1, 0, 0, 1, 0, 0, 0, 1, 0, 0, 0, 0], False)),\n",
       "       (175.278, 178.704, ( 8,  0, [1, 0, 0, 0, 1, 0, 0, 1, 0, 0, 0, 0],  True)),\n",
       "       (178.704, 182.315, ( 3,  0, [1, 0, 0, 0, 1, 0, 0, 1, 0, 0, 0, 0],  True)),\n",
       "       (182.315, 183.519, ( 7,  0, [1, 0, 0, 1, 0, 0, 0, 1, 0, 0, 0, 0], False)),\n",
       "       (183.519, 183.889, ( 7,  0, [1, 0, 0, 0, 1, 0, 0, 1, 0, 0, 0, 0],  True)),\n",
       "       (183.889, 185.556, ( 7,  0, [1, 0, 0, 0, 1, 0, 0, 1, 0, 0, 1, 0],  True)),\n",
       "       (185.556, 189.074, ( 0,  0, [1, 0, 0, 1, 0, 0, 0, 1, 0, 0, 0, 0], False)),\n",
       "       (189.074, 192.407, ( 8,  0, [1, 0, 0, 0, 1, 0, 0, 1, 0, 0, 0, 0],  True)),\n",
       "       (192.407, 196.019, ( 3,  0, [1, 0, 0, 0, 1, 0, 0, 1, 0, 0, 0, 0],  True)),\n",
       "       (196.019, 196.759, ( 7,  0, [1, 0, 0, 0, 1, 0, 0, 1, 0, 0, 0, 0],  True)),\n",
       "       (196.759, 199.352, ( 7,  0, [1, 0, 0, 0, 1, 0, 0, 1, 0, 0, 1, 0],  True)),\n",
       "       (199.352, 202.778, ( 0,  0, [1, 0, 0, 1, 0, 0, 0, 1, 0, 0, 0, 0], False)),\n",
       "       (202.778, 206.204, ( 8,  0, [1, 0, 0, 0, 1, 0, 0, 1, 0, 0, 0, 0],  True)),\n",
       "       (206.204, 208.241, ( 3,  0, [1, 0, 0, 0, 1, 0, 0, 1, 0, 0, 0, 0],  True)),\n",
       "       (208.241, 210.   , (-1, -1, [0, 0, 0, 0, 0, 0, 0, 0, 0, 0, 0, 0], False))],\n",
       "      dtype=[('start', '<f4'), ('end', '<f4'), ('chord', [('root', '<i8'), ('bass', '<i8'), ('intervals', '<i8', (12,)), ('is_major', '?')])])"
      ]
     },
     "execution_count": 15,
     "metadata": {},
     "output_type": "execute_result"
    }
   ],
   "source": [
    "crds"
   ]
  },
  {
   "cell_type": "code",
   "execution_count": 17,
   "metadata": {},
   "outputs": [
    {
     "data": {
      "text/html": [
       "<div>\n",
       "<style scoped>\n",
       "    .dataframe tbody tr th:only-of-type {\n",
       "        vertical-align: middle;\n",
       "    }\n",
       "\n",
       "    .dataframe tbody tr th {\n",
       "        vertical-align: top;\n",
       "    }\n",
       "\n",
       "    .dataframe thead th {\n",
       "        text-align: right;\n",
       "    }\n",
       "</style>\n",
       "<table border=\"1\" class=\"dataframe\">\n",
       "  <thead>\n",
       "    <tr style=\"text-align: right;\">\n",
       "      <th></th>\n",
       "      <th>root</th>\n",
       "      <th>is_major</th>\n",
       "      <th>chord_id</th>\n",
       "      <th>start</th>\n",
       "      <th>end</th>\n",
       "    </tr>\n",
       "  </thead>\n",
       "  <tbody>\n",
       "    <tr>\n",
       "      <th>0</th>\n",
       "      <td>-1</td>\n",
       "      <td>False</td>\n",
       "      <td>24</td>\n",
       "      <td>0.000000</td>\n",
       "      <td>0.463000</td>\n",
       "    </tr>\n",
       "    <tr>\n",
       "      <th>1</th>\n",
       "      <td>3</td>\n",
       "      <td>True</td>\n",
       "      <td>6</td>\n",
       "      <td>0.463000</td>\n",
       "      <td>3.889000</td>\n",
       "    </tr>\n",
       "    <tr>\n",
       "      <th>2</th>\n",
       "      <td>7</td>\n",
       "      <td>True</td>\n",
       "      <td>14</td>\n",
       "      <td>3.889000</td>\n",
       "      <td>7.315000</td>\n",
       "    </tr>\n",
       "    <tr>\n",
       "      <th>3</th>\n",
       "      <td>0</td>\n",
       "      <td>False</td>\n",
       "      <td>1</td>\n",
       "      <td>7.315000</td>\n",
       "      <td>10.833000</td>\n",
       "    </tr>\n",
       "    <tr>\n",
       "      <th>4</th>\n",
       "      <td>8</td>\n",
       "      <td>True</td>\n",
       "      <td>16</td>\n",
       "      <td>10.833000</td>\n",
       "      <td>14.167000</td>\n",
       "    </tr>\n",
       "    <tr>\n",
       "      <th>...</th>\n",
       "      <td>...</td>\n",
       "      <td>...</td>\n",
       "      <td>...</td>\n",
       "      <td>...</td>\n",
       "      <td>...</td>\n",
       "    </tr>\n",
       "    <tr>\n",
       "      <th>81</th>\n",
       "      <td>7</td>\n",
       "      <td>True</td>\n",
       "      <td>14</td>\n",
       "      <td>196.759003</td>\n",
       "      <td>199.352005</td>\n",
       "    </tr>\n",
       "    <tr>\n",
       "      <th>82</th>\n",
       "      <td>0</td>\n",
       "      <td>False</td>\n",
       "      <td>1</td>\n",
       "      <td>199.352005</td>\n",
       "      <td>202.778000</td>\n",
       "    </tr>\n",
       "    <tr>\n",
       "      <th>83</th>\n",
       "      <td>8</td>\n",
       "      <td>True</td>\n",
       "      <td>16</td>\n",
       "      <td>202.778000</td>\n",
       "      <td>206.203995</td>\n",
       "    </tr>\n",
       "    <tr>\n",
       "      <th>84</th>\n",
       "      <td>3</td>\n",
       "      <td>True</td>\n",
       "      <td>6</td>\n",
       "      <td>206.203995</td>\n",
       "      <td>208.240997</td>\n",
       "    </tr>\n",
       "    <tr>\n",
       "      <th>85</th>\n",
       "      <td>-1</td>\n",
       "      <td>False</td>\n",
       "      <td>24</td>\n",
       "      <td>208.240997</td>\n",
       "      <td>210.000000</td>\n",
       "    </tr>\n",
       "  </tbody>\n",
       "</table>\n",
       "<p>86 rows × 5 columns</p>\n",
       "</div>"
      ],
      "text/plain": [
       "    root  is_major  chord_id       start         end\n",
       "0     -1     False        24    0.000000    0.463000\n",
       "1      3      True         6    0.463000    3.889000\n",
       "2      7      True        14    3.889000    7.315000\n",
       "3      0     False         1    7.315000   10.833000\n",
       "4      8      True        16   10.833000   14.167000\n",
       "..   ...       ...       ...         ...         ...\n",
       "81     7      True        14  196.759003  199.352005\n",
       "82     0     False         1  199.352005  202.778000\n",
       "83     8      True        16  202.778000  206.203995\n",
       "84     3      True         6  206.203995  208.240997\n",
       "85    -1     False        24  208.240997  210.000000\n",
       "\n",
       "[86 rows x 5 columns]"
      ]
     },
     "execution_count": 17,
     "metadata": {},
     "output_type": "execute_result"
    }
   ],
   "source": [
    "df = chords.get_converted_chord('/home/sake/psycho_separated_drumless/no_drums.lab')\n",
    "df"
   ]
  },
  {
   "cell_type": "code",
   "execution_count": 19,
   "metadata": {},
   "outputs": [
    {
     "data": {
      "text/plain": [
       "3"
      ]
     },
     "execution_count": 19,
     "metadata": {},
     "output_type": "execute_result"
    }
   ],
   "source": [
    "chords.pitch('D#')"
   ]
  },
  {
   "cell_type": "code",
   "execution_count": 39,
   "metadata": {},
   "outputs": [
    {
     "data": {
      "text/plain": [
       "(0.463, 3.889, (3, 0, [1, 0, 0, 0, 1, 0, 0, 1, 0, 0, 0, 0], True))"
      ]
     },
     "execution_count": 39,
     "metadata": {},
     "output_type": "execute_result"
    }
   ],
   "source": [
    "crds[1]"
   ]
  },
  {
   "cell_type": "code",
   "execution_count": 27,
   "metadata": {},
   "outputs": [
    {
     "data": {
      "text/plain": [
       "(3, 0, [1, 0, 0, 0, 1, 0, 0, 1, 0, 0, 0, 0], True)"
      ]
     },
     "execution_count": 27,
     "metadata": {},
     "output_type": "execute_result"
    }
   ],
   "source": [
    "crds[1][2]"
   ]
  },
  {
   "cell_type": "code",
   "execution_count": 38,
   "metadata": {},
   "outputs": [
    {
     "data": {
      "text/plain": [
       "tensor([0., 0., 0., 1., 0., 0., 0., 1., 0., 0., 1., 0.])"
      ]
     },
     "execution_count": 38,
     "metadata": {},
     "output_type": "execute_result"
    }
   ],
   "source": [
    "torch.concat([torch.Tensor(crds[1][2][2])[-crds[1][2][0]:],torch.Tensor(crds[1][2][2])[:-crds[1][2][0]]])"
   ]
  },
  {
   "cell_type": "code",
   "execution_count": 40,
   "metadata": {},
   "outputs": [
    {
     "data": {
      "text/plain": [
       "(0.463, 3.889)"
      ]
     },
     "execution_count": 40,
     "metadata": {},
     "output_type": "execute_result"
    }
   ],
   "source": [
    "crds[1][0], crds[1][1]"
   ]
  },
  {
   "cell_type": "code",
   "execution_count": 43,
   "metadata": {},
   "outputs": [],
   "source": [
    "timebin = 30/235"
   ]
  },
  {
   "cell_type": "code",
   "execution_count": 46,
   "metadata": {},
   "outputs": [
    {
     "data": {
      "text/plain": [
       "(0, 4)"
      ]
     },
     "execution_count": 46,
     "metadata": {},
     "output_type": "execute_result"
    }
   ],
   "source": [
    "round(crds[0][0]/timebin), round(crds[0][1]/timebin)"
   ]
  },
  {
   "cell_type": "code",
   "execution_count": 47,
   "metadata": {},
   "outputs": [
    {
     "data": {
      "text/plain": [
       "(4, 30)"
      ]
     },
     "execution_count": 47,
     "metadata": {},
     "output_type": "execute_result"
    }
   ],
   "source": [
    "round(crds[1][0]/timebin), round(crds[1][1]/timebin)"
   ]
  },
  {
   "cell_type": "code",
   "execution_count": 48,
   "metadata": {},
   "outputs": [
    {
     "data": {
      "text/plain": [
       "(30, 57)"
      ]
     },
     "execution_count": 48,
     "metadata": {},
     "output_type": "execute_result"
    }
   ],
   "source": [
    "round(crds[2][0]/timebin), round(crds[2][1]/timebin)"
   ]
  },
  {
   "cell_type": "code",
   "execution_count": 50,
   "metadata": {},
   "outputs": [
    {
     "name": "stdout",
     "output_type": "stream",
     "text": [
      "0 4\n",
      "4 30\n",
      "30 57\n",
      "57 85\n",
      "85 111\n",
      "111 139\n",
      "139 157\n",
      "157 160\n",
      "160 164\n",
      "164 192\n",
      "192 218\n",
      "218 258\n"
     ]
    }
   ],
   "source": [
    "for i in range(12):\n",
    "    print(round(crds[i][0]/timebin), round(crds[i][1]/timebin))"
   ]
  },
  {
   "cell_type": "code",
   "execution_count": 52,
   "metadata": {},
   "outputs": [],
   "source": [
    "chroma = torch.zeros([235,12])"
   ]
  },
  {
   "cell_type": "code",
   "execution_count": 64,
   "metadata": {},
   "outputs": [
    {
     "data": {
      "text/plain": [
       "(0., 0.463, (-1, -1, [0, 0, 0, 0, 0, 0, 0, 0, 0, 0, 0, 0], False))"
      ]
     },
     "execution_count": 64,
     "metadata": {},
     "output_type": "execute_result"
    }
   ],
   "source": [
    "crds[0]"
   ]
  },
  {
   "cell_type": "code",
   "execution_count": 74,
   "metadata": {},
   "outputs": [],
   "source": [
    "count = 0\n",
    "for crd in crds:\n",
    "    if count >= 235: \n",
    "        break\n",
    "    if crd[2][0] == -1:\n",
    "        multihot = torch.Tensor(crd[2][2])\n",
    "    else:\n",
    "        multihot = torch.concat([torch.Tensor(crd[2][2])[-crd[2][0]:],torch.Tensor(crd[2][2])[:-crd[2][0]]])\n",
    "    start_bin = round(crd[0]/timebin)\n",
    "    end_bin = round(crd[1]/timebin)\n",
    "    for j in range(start_bin,end_bin):\n",
    "        if count >= 235: \n",
    "            break\n",
    "        chroma[j]=multihot\n",
    "        count += 1"
   ]
  },
  {
   "cell_type": "code",
   "execution_count": 70,
   "metadata": {},
   "outputs": [],
   "source": [
    "import matplotlib.pyplot as plt"
   ]
  },
  {
   "cell_type": "code",
   "execution_count": 75,
   "metadata": {},
   "outputs": [
    {
     "data": {
      "text/plain": [
       "tensor([[0., 0., 0.,  ..., 0., 0., 0.],\n",
       "        [0., 0., 0.,  ..., 0., 0., 0.],\n",
       "        [0., 0., 0.,  ..., 0., 0., 0.],\n",
       "        ...,\n",
       "        [0., 0., 0.,  ..., 0., 1., 0.],\n",
       "        [0., 0., 0.,  ..., 0., 1., 0.],\n",
       "        [0., 0., 0.,  ..., 0., 1., 0.]])"
      ]
     },
     "execution_count": 75,
     "metadata": {},
     "output_type": "execute_result"
    }
   ],
   "source": [
    "chroma"
   ]
  },
  {
   "cell_type": "code",
   "execution_count": 77,
   "metadata": {},
   "outputs": [
    {
     "data": {
      "text/plain": [
       "<matplotlib.image.AxesImage at 0x7f883e431ee0>"
      ]
     },
     "execution_count": 77,
     "metadata": {},
     "output_type": "execute_result"
    },
    {
     "data": {
      "image/png": "[encoded data removed]",
      "text/plain": [
       "<Figure size 2000x200 with 1 Axes>"
      ]
     },
     "metadata": {},
     "output_type": "display_data"
    }
   ],
   "source": [
    "plt.figure(figsize = (20,2))\n",
    "plt.imshow(chroma.T, origin='lower', interpolation='nearest')"
   ]
  }
 ],
 "metadata": {
  "kernelspec": {
   "display_name": "audiocraft-yxa8GELE",
   "language": "python",
   "name": "python3"
  },
  "language_info": {
   "codemirror_mode": {
    "name": "ipython",
    "version": 3
   },
   "file_extension": ".py",
   "mimetype": "text/x-python",
   "name": "python",
   "nbconvert_exporter": "python",
   "pygments_lexer": "ipython3",
   "version": "3.8.10"
  },
  "orig_nbformat": 4
 },
 "nbformat": 4,
 "nbformat_minor": 2
}
